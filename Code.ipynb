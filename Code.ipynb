{
 "cells": [
  {
   "cell_type": "code",
   "execution_count": null,
   "id": "35e18064",
   "metadata": {},
   "outputs": [],
   "source": [
    "import os\n",
    "import pandas as pd\n",
    "import requests\n",
    "import gradio as gr\n",
    "import re\n",
    "\n",
    "# !pip install pyarrow"
   ]
  },
  {
   "cell_type": "code",
   "execution_count": null,
   "id": "a80fcb3d",
   "metadata": {},
   "outputs": [],
   "source": [
    "# Load incident‑response dataset\n",
    "try:\n",
    "    df = pd.read_parquet(\"train.parquet\")\n",
    "except ImportError as e:\n",
    "    raise ImportError(\n",
    "        \"Unable to read Parquet file: please install pyarrow or fastparquet.\\n\"\n",
    "        \"You can run: pip install pyarrow\\n\"\n",
    "    )\n",
    "\n",
    "\n",
    "# Rename single unnamed column to 'text'\n",
    "if len(df.columns) == 1:\n",
    "    df.columns = ['text']\n",
    "    \n",
    "\n",
    "# KEY = \"xxxxx\""
   ]
  },
  {
   "cell_type": "code",
   "execution_count": 18,
   "id": "2e717de4",
   "metadata": {},
   "outputs": [],
   "source": [
    "# Clean and parse each row into 'instruction' and 'response' by splitting at '[/INST]'\n",
    "def split_row(row_text):\n",
    "    # Remove Parquet artifacts and system tags\n",
    "    text = row_text\n",
    "    # Strip leading <s> and SYS wrapper\n",
    "    text = re.sub(r\"^<s>\\[INST\\] <<SYS>>\", \"\", text)\n",
    "    text = re.sub(r\"<</SYS>>\", \"\", text)\n",
    "    # Split into user instruction and model response\n",
    "    parts = text.split('[/INST]')\n",
    "    if len(parts) >= 2:\n",
    "        instruction = parts[0].strip()\n",
    "        response = parts[1].strip()\n",
    "    else:\n",
    "        instruction = text.strip()\n",
    "        response = ''\n",
    "    return instruction, response\n",
    "\n",
    "# Apply parsing\n",
    "parsed = df['text'].apply(split_row)\n",
    "df['instruction'], df['response'] = zip(*parsed)"
   ]
  },
  {
   "cell_type": "code",
   "execution_count": 27,
   "id": "780c397c",
   "metadata": {},
   "outputs": [
    {
     "data": {
      "text/html": [
       "<div>\n",
       "<style scoped>\n",
       "    .dataframe tbody tr th:only-of-type {\n",
       "        vertical-align: middle;\n",
       "    }\n",
       "\n",
       "    .dataframe tbody tr th {\n",
       "        vertical-align: top;\n",
       "    }\n",
       "\n",
       "    .dataframe thead th {\n",
       "        text-align: right;\n",
       "    }\n",
       "</style>\n",
       "<table border=\"1\" class=\"dataframe\">\n",
       "  <thead>\n",
       "    <tr style=\"text-align: right;\">\n",
       "      <th></th>\n",
       "      <th>text</th>\n",
       "      <th>instruction</th>\n",
       "      <th>response</th>\n",
       "    </tr>\n",
       "  </thead>\n",
       "  <tbody>\n",
       "    <tr>\n",
       "      <th>0</th>\n",
       "      <td>&lt;s&gt;[INST] &lt;&lt;SYS&gt;&gt;\\nYou are a highly advanced A...</td>\n",
       "      <td>You are a highly advanced AI assistant in our ...</td>\n",
       "      <td>Sure. Here is the information requested.\\nTitl...</td>\n",
       "    </tr>\n",
       "    <tr>\n",
       "      <th>1</th>\n",
       "      <td>&lt;s&gt;[INST] &lt;&lt;SYS&gt;&gt;\\nYou are a highly advanced A...</td>\n",
       "      <td>You are a highly advanced AI assistant in our ...</td>\n",
       "      <td>Sure. Here is the information requested.\\nTitl...</td>\n",
       "    </tr>\n",
       "    <tr>\n",
       "      <th>2</th>\n",
       "      <td>&lt;s&gt;[INST] &lt;&lt;SYS&gt;&gt;\\nYou are a highly advanced A...</td>\n",
       "      <td>You are a highly advanced AI assistant in our ...</td>\n",
       "      <td>Sure. Here is the information requested.\\nTitl...</td>\n",
       "    </tr>\n",
       "    <tr>\n",
       "      <th>3</th>\n",
       "      <td>&lt;s&gt;[INST] &lt;&lt;SYS&gt;&gt;\\nYou are a highly advanced A...</td>\n",
       "      <td>You are a highly advanced AI assistant in our ...</td>\n",
       "      <td>Sure. Here is the information requested.\\nTitl...</td>\n",
       "    </tr>\n",
       "    <tr>\n",
       "      <th>4</th>\n",
       "      <td>&lt;s&gt;[INST] &lt;&lt;SYS&gt;&gt;\\nYou are a highly advanced A...</td>\n",
       "      <td>You are a highly advanced AI assistant in our ...</td>\n",
       "      <td>Sure. Here is the information requested.\\nTitl...</td>\n",
       "    </tr>\n",
       "  </tbody>\n",
       "</table>\n",
       "</div>"
      ],
      "text/plain": [
       "                                                text  \\\n",
       "0  <s>[INST] <<SYS>>\\nYou are a highly advanced A...   \n",
       "1  <s>[INST] <<SYS>>\\nYou are a highly advanced A...   \n",
       "2  <s>[INST] <<SYS>>\\nYou are a highly advanced A...   \n",
       "3  <s>[INST] <<SYS>>\\nYou are a highly advanced A...   \n",
       "4  <s>[INST] <<SYS>>\\nYou are a highly advanced A...   \n",
       "\n",
       "                                         instruction  \\\n",
       "0  You are a highly advanced AI assistant in our ...   \n",
       "1  You are a highly advanced AI assistant in our ...   \n",
       "2  You are a highly advanced AI assistant in our ...   \n",
       "3  You are a highly advanced AI assistant in our ...   \n",
       "4  You are a highly advanced AI assistant in our ...   \n",
       "\n",
       "                                            response  \n",
       "0  Sure. Here is the information requested.\\nTitl...  \n",
       "1  Sure. Here is the information requested.\\nTitl...  \n",
       "2  Sure. Here is the information requested.\\nTitl...  \n",
       "3  Sure. Here is the information requested.\\nTitl...  \n",
       "4  Sure. Here is the information requested.\\nTitl...  "
      ]
     },
     "execution_count": 27,
     "metadata": {},
     "output_type": "execute_result"
    }
   ],
   "source": [
    "df.head(5)"
   ]
  },
  {
   "cell_type": "code",
   "execution_count": 15,
   "id": "72a2723d",
   "metadata": {},
   "outputs": [],
   "source": [
    "MODEL = \"llama-3.3-70b-versatile\"\n",
    "API_URL = \"https://api.groq.com/openai/v1/chat/completions\""
   ]
  },
  {
   "cell_type": "code",
   "execution_count": null,
   "id": "bb4a1034",
   "metadata": {},
   "outputs": [],
   "source": [
    "# LLM call, few-shot learning style\n",
    "\n",
    "def ask_playbook(api_key, question):\n",
    "    if not api_key or api_key.strip().lower().startswith(\"enter\"):\n",
    "        return \"Error: Please provide a valid API Key.\"\n",
    "\n",
    "    examples = df[['instruction', 'response']].head(5).to_dict(orient=\"records\")\n",
    "    context = \"\\n\\n\".join(\n",
    "        f\"### Example Prompt:\\n{ex['instruction']}\\n\\n### Example Playbook:\\n{ex['response']}\"\n",
    "        for ex in examples\n",
    "    )\n",
    "\n",
    "    prompt = f\"\"\"\n",
    "You are a cyber-incident playbook generator following NIST SP 800-61 Rev.2.  \n",
    "Below are sample prompts and generated playbooks:\n",
    "\n",
    "{context}\n",
    "\n",
    "Now, generate a detailed, NIST-compliant incident response playbook for this scenario:\n",
    "\"{question}\"\n",
    "\"\"\"\n",
    "    try:\n",
    "        resp = requests.post(\n",
    "            \"https://api.groq.com/openai/v1/chat/completions\",\n",
    "            headers={\n",
    "                \"Authorization\": f\"Bearer {api_key}\",\n",
    "                \"Content-Type\": \"application/json\"\n",
    "            },\n",
    "            json={\n",
    "                \"model\": MODEL,\n",
    "                \"messages\": [\n",
    "                    {\"role\": \"system\", \"content\": \"You generate NIST-style incident response playbooks.\"},\n",
    "                    {\"role\": \"user\", \"content\": prompt}\n",
    "                ],\n",
    "                \"temperature\": 0.2\n",
    "            },\n",
    "            timeout=30\n",
    "        )\n",
    "    except requests.exceptions.RequestException as e:\n",
    "        return f\"Error: Network or timeout issue: {e}\"\n",
    "\n",
    "    if resp.status_code != 200:\n",
    "        try:\n",
    "            err = resp.json()\n",
    "        except Exception:\n",
    "            err = resp.text\n",
    "        return f\"Error {resp.status_code}: {err}\"\n",
    "\n",
    "    data = resp.json()\n",
    "    try:\n",
    "        return data['choices'][0]['message']['content']\n",
    "    except (KeyError, IndexError) as e:\n",
    "        return f\"Error parsing response: {e} - {data}\""
   ]
  },
  {
   "cell_type": "code",
   "execution_count": 25,
   "id": "0f26d494",
   "metadata": {},
   "outputs": [],
   "source": [
    "def main():\n",
    "    interface = gr.Interface(\n",
    "        fn=ask_playbook,\n",
    "        inputs=[\n",
    "            gr.Textbox(label=\"API Key\", type=\"password\", placeholder=\"Enter your Groq API Key here\"),\n",
    "            gr.Textbox(label=\"Incident Scenario\", lines=2,\n",
    "                       placeholder=\"e.g. Ransomware on Windows Server 2019\")\n",
    "        ],\n",
    "        outputs=gr.Textbox(label=\"Generated Playbook\"),\n",
    "        title=\"Incident Response Playbook Demo\",\n",
    "        description=\"Enter a scenario and receive a NIST-compliant response playbook.\"\n",
    "    )\n",
    "    interface.launch()"
   ]
  },
  {
   "cell_type": "code",
   "execution_count": null,
   "id": "f3d405e5",
   "metadata": {},
   "outputs": [
    {
     "name": "stdout",
     "output_type": "stream",
     "text": [
      "* Running on local URL:  http://127.0.0.1:7861\n",
      "* To create a public link, set `share=True` in `launch()`.\n"
     ]
    },
    {
     "data": {
      "text/html": [
       "<div><iframe src=\"http://127.0.0.1:7861/\" width=\"100%\" height=\"500\" allow=\"autoplay; camera; microphone; clipboard-read; clipboard-write;\" frameborder=\"0\" allowfullscreen></iframe></div>"
      ],
      "text/plain": [
       "<IPython.core.display.HTML object>"
      ]
     },
     "metadata": {},
     "output_type": "display_data"
    }
   ],
   "source": [
    "# KEY = \"xxxxx\"     Enter your own acount API KEY when prompted\n",
    "\n",
    "if __name__ == \"__main__\":\n",
    "    main()"
   ]
  }
 ],
 "metadata": {
  "kernelspec": {
   "display_name": "env_ml_1",
   "language": "python",
   "name": "python3"
  },
  "language_info": {
   "codemirror_mode": {
    "name": "ipython",
    "version": 3
   },
   "file_extension": ".py",
   "mimetype": "text/x-python",
   "name": "python",
   "nbconvert_exporter": "python",
   "pygments_lexer": "ipython3",
   "version": "3.11.0"
  }
 },
 "nbformat": 4,
 "nbformat_minor": 5
}
